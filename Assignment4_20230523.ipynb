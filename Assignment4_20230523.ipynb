{
  "nbformat": 4,
  "nbformat_minor": 0,
  "metadata": {
    "colab": {
      "provenance": []
    },
    "kernelspec": {
      "name": "python3",
      "display_name": "Python 3"
    },
    "language_info": {
      "name": "python"
    }
  },
  "cells": [
    {
      "cell_type": "markdown",
      "source": [
        "#1번문제\n"
      ],
      "metadata": {
        "id": "kEmx02ZBRWro"
      }
    },
    {
      "cell_type": "code",
      "source": [
        "class MyStack:\n",
        "    def __init__(self):\n",
        "        self.queue1 = []\n",
        "        self.queue2 = []\n",
        "\n",
        "    def push(self, x: int) -> None:\n",
        "        self.queue1.append(x)\n",
        "\n",
        "    def pop(self) -> int:\n",
        "        while len(self.queue1) > 1:\n",
        "            self.queue2.append(self.queue1.pop(0))\n",
        "        res = self.queue1.pop(0)\n",
        "        self.queue1, self.queue2 = self.queue2, self.queue1\n",
        "        return res\n",
        "\n",
        "    def top(self) -> int:\n",
        "        while len(self.queue1) > 1:\n",
        "            self.queue2.append(self.queue1.pop(0))\n",
        "        res = self.queue1[0]\n",
        "        self.queue2.append(res)\n",
        "        self.queue1, self.queue2 = self.queue2, self.queue1\n",
        "        return res\n",
        "\n",
        "    def empty(self) -> bool:\n",
        "        return not self.queue1"
      ],
      "metadata": {
        "id": "EieaBGIiSvts"
      },
      "execution_count": 4,
      "outputs": []
    },
    {
      "cell_type": "markdown",
      "source": [
        "###LeetCode 225: Implement Stack using Queues 풀이\n",
        "- push(x) : 원소를 큐1에 추가한다. 큐1은 스택의 데이터를 저장하는 큐로 사용됨.\n",
        "- pop : 큐1에서 마지막 원소를 꺼내기 위해, 큐1에서 앞의 원소들을 큐2로 이동시키고, 큐1에서 가장 마지막 원소를 꺼내 반환한다.그리고 큐1과 큐2를 교환함.\n",
        "- top : 가장 마지막 원소를 꺼내지 않고 그 원소를 반환한다. 원소는 다시 큐2에 넣고, 큐1과 큐2를 교환\n",
        "- empty : 큐1이 비었는지 확인해서 스택이 비었는지 판단한다."
      ],
      "metadata": {
        "id": "ZAAoT8HynKMK"
      }
    },
    {
      "cell_type": "markdown",
      "source": [
        "#2번문제\n"
      ],
      "metadata": {
        "id": "EaCF6kKuq9NA"
      }
    },
    {
      "cell_type": "code",
      "source": [
        "class MyQueue:\n",
        "\n",
        "    def __init__(self):\n",
        "        self.stack1 = []\n",
        "        self.stack2 = []\n",
        "\n",
        "    def push(self, x: int) -> None:\n",
        "        self.stack1.append(x)\n",
        "\n",
        "    def pop(self) -> int:\n",
        "        if not self.stack2:\n",
        "            while self.stack1:\n",
        "                self.stack2.append(self.stack1.pop())\n",
        "        return self.stack2.pop()\n",
        "\n",
        "    def peek(self) -> int:\n",
        "        if not self.stack2:\n",
        "            while self.stack1:\n",
        "                self.stack2.append(self.stack1.pop())\n",
        "        return self.stack2[-1]\n",
        "\n",
        "    def empty(self) -> bool:\n",
        "        return not self.stack1 and not self.stack2"
      ],
      "metadata": {
        "id": "oeJspkr-rgKf"
      },
      "execution_count": null,
      "outputs": []
    },
    {
      "cell_type": "markdown",
      "source": [
        "###LeetCode 232: Implement Queue using Stacks 풀이\n",
        "- push(x): 스택 1에 원소 추가\n",
        "- pop: 만약 스택2가 비어 있으면, 스택1의 모든 원소를 스택2로 옮기고 스택2에서 원소를 꺼냄.\n",
        "- peek: 만약 스택2가 비어 있으면, 스택1의 모든 원소를 스택2로 옮기고 스택2의 맨 위 원소 반환\n",
        "- empty: 스택1과 스택2가 모두 비어 있을 경우 큐가 비어 있다"
      ],
      "metadata": {
        "id": "jEur-yVztAPP"
      }
    },
    {
      "cell_type": "markdown",
      "source": [
        "#3번문제\n",
        "####교재의 큐 연습문제 전부"
      ],
      "metadata": {
        "id": "qFmiWetku950"
      }
    },
    {
      "cell_type": "markdown",
      "source": [
        "###1번"
      ],
      "metadata": {
        "id": "YMWpzTSvxJRP"
      }
    },
    {
      "cell_type": "code",
      "source": [
        "class ListQueue:\n",
        "    def __init__(self):\n",
        "        self.__queue = []\n",
        "\n",
        "    def enqueue(self, x):\n",
        "        self.__queue.insert(0, x)\n",
        "\n",
        "    def dequeue(self):\n",
        "        return self.__queue.pop()\n",
        "\n",
        "    def front(self):\n",
        "        return self.__queue[-1]\n",
        "\n",
        "    def isEmpty(self) -> bool:\n",
        "        return len(self.__queue) == 0\n",
        "\n",
        "    def dequeueAll(self):\n",
        "        self.__queue.clear()"
      ],
      "metadata": {
        "id": "oaC8eGdHxbFe"
      },
      "execution_count": null,
      "outputs": []
    },
    {
      "cell_type": "markdown",
      "source": [
        "fornt와 tail을 바꿔서 영향이 가는건 enqueue, dequeue, front 이렇게 3개만 영향이 있기 때문에 이 3개를 바꾼다.\n",
        "- enqueue: insert(0, x)를 사용하여 큐의 맨 끝을 front로 바꾼다.\n",
        "- dequeue: pop을 사용하여 리스트의 맨 끝에서 원소를 제거하도록 한다.\n",
        "- front: 리스트의 맨 끝을 front로 정했으니 리스트의 맨 끝 원소를 반환하는 방식으로 변경한다."
      ],
      "metadata": {
        "id": "f_RmHiny0C7d"
      }
    },
    {
      "cell_type": "markdown",
      "source": [
        "###2번"
      ],
      "metadata": {
        "id": "Jbmx10T3xkd8"
      }
    },
    {
      "cell_type": "code",
      "source": [
        "def check_if_double(self, string):\n",
        "        length = len(string)\n",
        "\n",
        "        if length % 2 != 0:\n",
        "            return False\n",
        "\n",
        "        mid = length // 2\n",
        "\n",
        "        for i in range(mid):\n",
        "            self.enqueue(string[i])\n",
        "\n",
        "        for i in range(mid, length):\n",
        "            if self.dequeue() != string[i]:\n",
        "                return False\n",
        "\n",
        "        return True"
      ],
      "metadata": {
        "id": "TYQA7FqAxm9b"
      },
      "execution_count": null,
      "outputs": []
    },
    {
      "cell_type": "markdown",
      "source": [
        "우선 문자열의 길이가 홀수라면 두 부분으로 나누는 것 자체가 불가능하니 false.\n",
        "그다음에 문자열을 절반으로 나눠서 앞의 절반을 큐에 넣고, 뒤의 절반의 문자와 큐에서 꺼낸 문자를 비교하여 모든 문자가 동일하면 true를 반환하도록 한다."
      ],
      "metadata": {
        "id": "HNAnA5J55kJi"
      }
    },
    {
      "cell_type": "markdown",
      "source": [
        "###3번"
      ],
      "metadata": {
        "id": "MzQRyijdx8gD"
      }
    },
    {
      "cell_type": "code",
      "source": [
        " def copy(self):\n",
        "        new_queue = LinkedQueue()\n",
        "        new_queue.queue = self.queue.copy()\n",
        "        return new_queue"
      ],
      "metadata": {
        "id": "D6bCjh_Bx-H4"
      },
      "execution_count": null,
      "outputs": []
    },
    {
      "cell_type": "markdown",
      "source": [
        "새로운 큐를 하나 만들고, 리스트를 복사해서 새로운 큐에 넣은 뒤에 새로운 큐를 반환하면 복사가 완료된다."
      ],
      "metadata": {
        "id": "m1Pumfok91Ca"
      }
    },
    {
      "cell_type": "markdown",
      "source": [
        "###4번"
      ],
      "metadata": {
        "id": "tr8p_a2_x-fU"
      }
    },
    {
      "cell_type": "code",
      "source": [
        "class MyStack:\n",
        "    def __init__(self):\n",
        "        self.queue1 = []\n",
        "        self.queue2 = []\n",
        "\n",
        "    def push(self, x: int) -> None:\n",
        "        self.queue1.append(x)\n",
        "\n",
        "    def pop(self) -> int:\n",
        "        if self.queue1:\n",
        "            while len(self.queue1) > 1:\n",
        "                self.queue2.append(self.queue1.pop(0))\n",
        "\n",
        "            return self.queue1.pop(0)\n",
        "        return None"
      ],
      "metadata": {
        "id": "YkbzRqcnx_oG"
      },
      "execution_count": null,
      "outputs": []
    },
    {
      "cell_type": "markdown",
      "source": [
        "- push: 큐1에 원소를 추가하는 코드\n",
        "- pop: 큐1에 원소가 있을 때, 큐1에서 큐2로 원소를 이동하는데 큐1의 마지막 원소가 스택의 top이니 그 원소를 반환한다."
      ],
      "metadata": {
        "id": "BqxPoR0zAhhE"
      }
    },
    {
      "cell_type": "markdown",
      "source": [
        "###5번"
      ],
      "metadata": {
        "id": "KuFC1yByyAFY"
      }
    },
    {
      "cell_type": "code",
      "source": [
        "class MyQueue:\n",
        "    def __init__(self):\n",
        "        self.stack1 = []\n",
        "        self.stack2 = []\n",
        "\n",
        "    def enqueue(self, x: int) -> None:\n",
        "        self.stack1.append(x)\n",
        "\n",
        "    def dequeue(self) -> int:\n",
        "        if not self.stack2:\n",
        "            while self.stack1:\n",
        "                self.stack2.append(self.stack1.pop())\n",
        "        return self.stack2.pop() if self.stack2 else None"
      ],
      "metadata": {
        "id": "_UC21RIGChT1"
      },
      "execution_count": null,
      "outputs": []
    },
    {
      "cell_type": "markdown",
      "source": [
        "- enqueue: 스택 1에 원소를 추가한다.\n",
        "- dequeue: 스택 2가 비었을 때 스택1에서 스택2로 원소를 이동시키는데, 스택2에서 맨 위 원소를 꺼내면 그게 큐의 앞에 있는 원소가 된다. 그리고, 스택1이 아닌 스택 2에 이미 원소가 있다면 바로 스택 2에서 원소를 꺼내서 반환한다."
      ],
      "metadata": {
        "id": "4zrUu6dnC4vQ"
      }
    },
    {
      "cell_type": "markdown",
      "source": [
        "###6번"
      ],
      "metadata": {
        "id": "DxX9FLB4yBuK"
      }
    },
    {
      "cell_type": "markdown",
      "source": [
        "enqueue()와 dequeue()의 수행 시간은 둘다 O(1)이다.\n",
        "\n",
        "-> CircularLinkedList는 앞과 뒤가 연결되어 있기 때문에 큐의 맨 앞과 맨 뒤에서 원소를 추가하거나 제거하는 연산을 모두 O(1) 시간 복잡도 내에 처리할 수 있다."
      ],
      "metadata": {
        "id": "QHaZREia2CiR"
      }
    },
    {
      "cell_type": "markdown",
      "source": [
        "###7번"
      ],
      "metadata": {
        "id": "j_3MaHe_yDnm"
      }
    },
    {
      "cell_type": "markdown",
      "source": [
        "enqueue(): O(n)   /   dequeue(): O(1)  \n",
        "\n",
        "-> enqueue(): 연결 리스트에서 맨 뒤에 원소를 삽입하려면 끝까지 순차적으로 탐색해야 하기 때문에 수행 시간은 O(n)이다.\n",
        "\n",
        "-> dequeue(): 맨 앞의 원소를 제거하는 작업은 첫 번째 노드를 바로 제거할 수 있는 간단한 작업이기때문에 수행 시간은 O(1)이다."
      ],
      "metadata": {
        "id": "zk_z_fNy6jRm"
      }
    },
    {
      "cell_type": "markdown",
      "source": [
        "###8번"
      ],
      "metadata": {
        "id": "HhnaRL2LyEwl"
      }
    },
    {
      "cell_type": "code",
      "source": [
        "class DequeQueue:\n",
        "    def __init__(self):\n",
        "        self.__queue = []\n",
        "\n",
        "    def enqueueFront(self, x):\n",
        "        self.__queue.insert(0, x)\n",
        "\n",
        "    def enqueue(self, x):\n",
        "        self.__queue.append(x)\n",
        "\n",
        "    def dequeue(self):\n",
        "        if self.isEmpty():\n",
        "            return None\n",
        "        return self.__queue.pop(0)\n",
        "\n",
        "    def dequeueRear(self):\n",
        "        if self.isEmpty():\n",
        "            return None\n",
        "        return self.__queue.pop()\n",
        "\n",
        "    def front(self):\n",
        "        if self.isEmpty():\n",
        "            return None\n",
        "        else:\n",
        "            return self.__queue[0]\n",
        "\n",
        "    def isEmpty(self) -> bool:\n",
        "        return (len(self.__queue) == 0);\n",
        "\n",
        "    def dequeueAll(self):\n",
        "        self.__queue.clear()\n",
        "\n",
        "    def printQueue(self):\n",
        "        print(\"Queue from front:\", end=' ')\n",
        "        for i in range(len(self.__queue)):\n",
        "            print(self.__queue[i], end=' ')\n",
        "        print()"
      ],
      "metadata": {
        "id": "ESgzd0YNyFxg"
      },
      "execution_count": null,
      "outputs": []
    },
    {
      "cell_type": "markdown",
      "source": [
        "Deque는 양쪽 방향으로 추가와 제거가 가능해야 하니까 리스트의 양쪽에서 원소를 추가하거나 제거할 수 있는 메서드를 추가해야한다.\n",
        "- enqueueFront(): 맨 앞에 원소를 추가하는 기능으로 작동하도록 insert(0, x)를 사용해서 수행하도록 한다.\n",
        "- dequeueRear(): 큐의 맨 뒤에서 원소를 제거하는 기능으로 작동하도록 pop()을 사용하여 맨 뒤 원소를 제거하도록 한다.\n",
        "- enqueue(x): enqueue(x)가 그대로 존재하며, 맨 뒤에 원소를 추가하는 방식으로 작동되도록 바꾼다.\n",
        "- dequeue(): dequeue()가 그대로 존재하며, 맨 앞에서 원소를 제거하는 방식으로 작동되게 바꾼다.\n",
        "- front(), isEmpty(), dequeueAll(), printQueue()는 deque로 바뀌어도 기능상 동일하게 동작하기 때문에 바뀌지 않는다."
      ],
      "metadata": {
        "id": "csvyDtID9l6V"
      }
    }
  ]
}